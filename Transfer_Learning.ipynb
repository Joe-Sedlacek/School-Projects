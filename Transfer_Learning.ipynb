{
 "cells": [
  {
   "cell_type": "code",
   "execution_count": 13,
   "metadata": {},
   "outputs": [],
   "source": [
    "%matplotlib inline\n",
    "\n",
    "import numpy as np\n",
    "import matplotlib.pylab as plt\n",
    "from tensorflow import keras\n",
    "from tensorflow.keras.models import Sequential\n",
    "from tensorflow.keras.layers import Dense, Dropout, Flatten\n",
    "from tensorflow.keras.layers import Conv2D, MaxPooling2D\n",
    "from tensorflow.keras.datasets import mnist\n",
    "\n",
    "from tensorflow.keras.preprocessing import image"
   ]
  },
  {
   "cell_type": "markdown",
   "metadata": {},
   "source": [
    "Next code segment is utilizing DenseNet121 to predict any image of your choice. "
   ]
  },
  {
   "cell_type": "code",
   "execution_count": 14,
   "metadata": {},
   "outputs": [],
   "source": [
    "densenet = keras.applications.DenseNet121(\n",
    "    include_top=True,\n",
    "    weights=\"imagenet\",\n",
    "    input_tensor=None,\n",
    "    input_shape=None,\n",
    "    pooling=None,\n",
    "    classes=1000\n",
    ")"
   ]
  },
  {
   "cell_type": "markdown",
   "metadata": {},
   "source": [
    "Load in image and predict"
   ]
  },
  {
   "cell_type": "code",
   "execution_count": 15,
   "metadata": {},
   "outputs": [
    {
     "name": "stdout",
     "output_type": "stream",
     "text": [
      "1/1 [==============================] - 2s 2s/step\n"
     ]
    }
   ],
   "source": [
    "image_path = r\"C:\\Users\\jsedl\\OneDrive\\Documents\\otter.jpg\" #can input any image path here\n",
    "\n",
    "image = keras.utils.load_img(image_path, target_size=(224, 224))\n",
    "x = keras.utils.img_to_array(image)\n",
    "x = np.expand_dims(x, axis=0)\n",
    "\n",
    "features = densenet.predict(x)"
   ]
  },
  {
   "cell_type": "code",
   "execution_count": 16,
   "metadata": {},
   "outputs": [
    {
     "name": "stdout",
     "output_type": "stream",
     "text": [
      "[[('n03220513', 'dome', 0.94183785), ('n03530642', 'honeycomb', 0.057904407), ('n03956157', 'planetarium', 0.00014567922), ('n03481172', 'hammer', 7.345554e-05), ('n04208210', 'shovel', 3.2928823e-05)]]\n"
     ]
    }
   ],
   "source": [
    "print(keras.applications.imagenet_utils.decode_predictions(features))"
   ]
  },
  {
   "cell_type": "markdown",
   "metadata": {},
   "source": [
    "Next code segment is utlizing feature extraction to better predict photo classification of dogs and cats. "
   ]
  },
  {
   "cell_type": "code",
   "execution_count": 17,
   "metadata": {},
   "outputs": [],
   "source": [
    "import numpy as np\n",
    "import matplotlib.pyplot as plt\n",
    "from sklearn.datasets import make_classification\n",
    "from sklearn.metrics import ConfusionMatrixDisplay\n",
    "from sklearn.metrics import confusion_matrix, ConfusionMatrixDisplay\n",
    "from sklearn.model_selection import train_test_split\n",
    "\n",
    "from sklearn.linear_model import LogisticRegression"
   ]
  },
  {
   "cell_type": "markdown",
   "metadata": {},
   "source": [
    "Next code segment is loading in the data"
   ]
  },
  {
   "cell_type": "code",
   "execution_count": 18,
   "metadata": {},
   "outputs": [],
   "source": [
    "X = np.load(r'C:\\Users\\jsedl\\Downloads\\cats_vs_dog_data\\cat_vs_dog_data\\X_cat_vs_dog.npz')['arr_0']\n",
    "Y = np.load(r'C:\\Users\\jsedl\\Downloads\\cats_vs_dog_data\\cat_vs_dog_data\\Y_cat_vs_dog.npz')['arr_0']\n",
    "\n",
    "# Split train/test\n",
    "x_train = X[0:500]\n",
    "y_train = Y[0:500]\n",
    "x_test = X[500:]\n",
    "y_test = Y[500:]\n",
    "\n",
    "# Flattens the images into the data-matrix format that most sklearn models accept\n",
    "x_raw_train = x_train.flatten().reshape([x_train.shape[0], 200*200*3])\n",
    "x_raw_test = x_test.flatten().reshape([x_test.shape[0], 200*200*3])"
   ]
  },
  {
   "cell_type": "markdown",
   "metadata": {},
   "source": [
    "Next code segment extracts the features using DenseNet121 "
   ]
  },
  {
   "cell_type": "code",
   "execution_count": 19,
   "metadata": {},
   "outputs": [
    {
     "name": "stdout",
     "output_type": "stream",
     "text": [
      "16/16 [==============================] - 21s 1s/step\n",
      "16/16 [==============================] - 19s 1s/step\n"
     ]
    }
   ],
   "source": [
    "from sklearn.feature_extraction import image\n",
    "\n",
    "\n",
    "\n",
    "model2 = keras.applications.DenseNet121(\n",
    "    include_top=False,\n",
    "    weights=\"imagenet\"\n",
    ")\n",
    "\n",
    "x_train_FE = model2.predict(x_train)\n",
    "x_test_FE = model2.predict(x_test)\n"
   ]
  },
  {
   "cell_type": "markdown",
   "metadata": {},
   "source": [
    "Next code segment we use the features and logistical regression model to make predictions and then we print the confusion matrix"
   ]
  },
  {
   "cell_type": "code",
   "execution_count": 20,
   "metadata": {},
   "outputs": [
    {
     "name": "stderr",
     "output_type": "stream",
     "text": [
      "C:\\Users\\jsedl\\AppData\\Roaming\\Python\\Python310\\site-packages\\sklearn\\linear_model\\_logistic.py:444: ConvergenceWarning: lbfgs failed to converge (status=1):\n",
      "STOP: TOTAL NO. of ITERATIONS REACHED LIMIT.\n",
      "\n",
      "Increase the number of iterations (max_iter) or scale the data as shown in:\n",
      "    https://scikit-learn.org/stable/modules/preprocessing.html\n",
      "Please also refer to the documentation for alternative solver options:\n",
      "    https://scikit-learn.org/stable/modules/linear_model.html#logistic-regression\n",
      "  n_iter_i = _check_optimize_result(\n"
     ]
    },
    {
     "data": {
      "image/png": "[encoded data removed]",
      "text/plain": [
       "<Figure size 640x480 with 2 Axes>"
      ]
     },
     "metadata": {},
     "output_type": "display_data"
    }
   ],
   "source": [
    "x_train_FE = x_train_FE.reshape(500, (6*6*1024))\n",
    "x_test_FE = x_test_FE.reshape(500, (6*6*1024))\n",
    "logistic = LogisticRegression(random_state=0).fit(x_train_FE, y_train)\n",
    "\n",
    "preds = logistic.predict(x_test_FE)\n",
    "cm = confusion_matrix(y_test, preds, labels=logistic.classes_)\n",
    "\n",
    "disp = ConfusionMatrixDisplay(confusion_matrix=cm,\n",
    "                              display_labels=logistic.classes_)\n",
    "disp.plot()\n",
    "plt.show()"
   ]
  },
  {
   "cell_type": "markdown",
   "metadata": {},
   "source": [
    "Next code segment replaces the last layer (the output layer) with a new one. "
   ]
  },
  {
   "cell_type": "code",
   "execution_count": 21,
   "metadata": {},
   "outputs": [
    {
     "name": "stdout",
     "output_type": "stream",
     "text": [
      "KerasTensor(type_spec=TensorSpec(shape=(None, 6, 6, 1024), dtype=tf.float32, name=None), name='relu/Relu:0', description=\"created by layer 'relu'\")\n"
     ]
    }
   ],
   "source": [
    "model3 = keras.applications.DenseNet121(\n",
    "    include_top=False,\n",
    "    weights = \"imagenet\",\n",
    "     input_shape = (200,200,3)\n",
    "    # input_tensor=None,\n",
    "    # pooling=None,\n",
    "    # classes=1000,\n",
    "    # classifier_activation=\"softmax\",\n",
    ")\n",
    "\n",
    "#printing output layer\n",
    "print(model3.layers[-1].output)\n",
    "\n",
    "flat1 = Flatten()(model3.layers[-1].output)\n",
    "# class1 = Dense(1024, activation='relu')(flat1)\n",
    "output = Dense(1, activation='sigmoid')(flat1)\n",
    "\n",
    "model4 = keras.Model(inputs=model3.inputs, outputs=output)"
   ]
  },
  {
   "cell_type": "code",
   "execution_count": 22,
   "metadata": {},
   "outputs": [
    {
     "name": "stdout",
     "output_type": "stream",
     "text": [
      "Epoch 1/15\n",
      "4/4 [==============================] - 28s 5s/step - loss: 17.0533 - accuracy: 0.4580\n",
      "Epoch 2/15\n",
      "4/4 [==============================] - 35s 10s/step - loss: 11.7156 - accuracy: 0.5080\n",
      "Epoch 3/15\n",
      "4/4 [==============================] - 43s 11s/step - loss: 5.8937 - accuracy: 0.5640\n",
      "Epoch 4/15\n",
      "4/4 [==============================] - 42s 11s/step - loss: 4.3095 - accuracy: 0.6100\n",
      "Epoch 5/15\n",
      "4/4 [==============================] - 42s 10s/step - loss: 3.3824 - accuracy: 0.6660\n",
      "Epoch 6/15\n",
      "4/4 [==============================] - 45s 11s/step - loss: 2.8031 - accuracy: 0.6900\n",
      "Epoch 7/15\n",
      "4/4 [==============================] - 45s 11s/step - loss: 1.9730 - accuracy: 0.7400\n",
      "Epoch 8/15\n",
      "4/4 [==============================] - 45s 11s/step - loss: 1.3248 - accuracy: 0.7860\n",
      "Epoch 9/15\n",
      "4/4 [==============================] - 45s 11s/step - loss: 0.8667 - accuracy: 0.8040\n",
      "Epoch 10/15\n",
      "4/4 [==============================] - 45s 11s/step - loss: 0.7369 - accuracy: 0.8160\n",
      "Epoch 11/15\n",
      "4/4 [==============================] - 45s 11s/step - loss: 0.5093 - accuracy: 0.8580\n",
      "Epoch 12/15\n",
      "4/4 [==============================] - 46s 11s/step - loss: 0.4208 - accuracy: 0.8480\n",
      "Epoch 13/15\n",
      "4/4 [==============================] - 45s 11s/step - loss: 0.2794 - accuracy: 0.9000\n",
      "Epoch 14/15\n",
      "4/4 [==============================] - 45s 11s/step - loss: 0.1788 - accuracy: 0.9420\n",
      "Epoch 15/15\n",
      "4/4 [==============================] - 45s 11s/step - loss: 0.1397 - accuracy: 0.9360\n"
     ]
    },
    {
     "data": {
      "text/plain": [
       "<keras.callbacks.History at 0x1f82565e5f0>"
      ]
     },
     "execution_count": 22,
     "metadata": {},
     "output_type": "execute_result"
    }
   ],
   "source": [
    "#iterating through all layers but the last\n",
    "for i in range(len(model4.layers)-1):\n",
    "    layer = model4.layers[i]\n",
    "    layer.trainable = False\n",
    "\n",
    "model4.compile(optimizer = \"adam\", loss = \"binary_crossentropy\", metrics = \"accuracy\")\n",
    "model4.fit(x_train, y_train, batch_size=128,epochs = 15)"
   ]
  },
  {
   "cell_type": "code",
   "execution_count": 23,
   "metadata": {},
   "outputs": [
    {
     "name": "stdout",
     "output_type": "stream",
     "text": [
      "16/16 [==============================] - 62s 3s/step - loss: 1.8252 - accuracy: 0.6560\n"
     ]
    },
    {
     "data": {
      "text/plain": [
       "[1.8251523971557617, 0.656000018119812]"
      ]
     },
     "execution_count": 23,
     "metadata": {},
     "output_type": "execute_result"
    }
   ],
   "source": [
    "model4.evaluate(x_test, y_test)"
   ]
  }
 ],
 "metadata": {
  "kernelspec": {
   "display_name": "Python 3.10.6 64-bit",
   "language": "python",
   "name": "python3"
  },
  "language_info": {
   "codemirror_mode": {
    "name": "ipython",
    "version": 3
   },
   "file_extension": ".py",
   "mimetype": "text/x-python",
   "name": "python",
   "nbconvert_exporter": "python",
   "pygments_lexer": "ipython3",
   "version": "3.10.6"
  },
  "orig_nbformat": 4,
  "vscode": {
   "interpreter": {
    "hash": "26de051ba29f2982a8de78e945f0abaf191376122a1563185a90213a26c5da77"
   }
  }
 },
 "nbformat": 4,
 "nbformat_minor": 2
}
